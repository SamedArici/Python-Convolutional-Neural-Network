{
 "cells": [
  {
   "cell_type": "markdown",
   "id": "ea308056",
   "metadata": {},
   "source": [
    "# Fashion Mnist"
   ]
  },
  {
   "cell_type": "markdown",
   "id": "98bd23fd",
   "metadata": {},
   "source": [
    "## Importing Libraries"
   ]
  },
  {
   "cell_type": "code",
   "execution_count": 1,
   "id": "a184de28",
   "metadata": {},
   "outputs": [],
   "source": [
    "from keras.datasets import fashion_mnist\n",
    "from keras.utils import to_categorical"
   ]
  },
  {
   "cell_type": "code",
   "execution_count": 2,
   "id": "ef943cf9",
   "metadata": {},
   "outputs": [],
   "source": [
    "from keras.models import Sequential\n",
    "from keras.layers import Conv2D,MaxPooling2D,Flatten,Dense,Dropout"
   ]
  },
  {
   "cell_type": "code",
   "execution_count": 3,
   "id": "a96c857e",
   "metadata": {},
   "outputs": [],
   "source": [
    "import numpy as np\n",
    "import pandas as pd\n",
    "import matplotlib.pyplot as plt"
   ]
  },
  {
   "cell_type": "markdown",
   "id": "4fa9f294",
   "metadata": {},
   "source": [
    "## Load Data"
   ]
  },
  {
   "cell_type": "code",
   "execution_count": 4,
   "id": "7798f42f",
   "metadata": {},
   "outputs": [],
   "source": [
    "(x_train,y_train),(x_test,y_test) = fashion_mnist.load_data()\n",
    "number_of_classes = 10"
   ]
  },
  {
   "cell_type": "markdown",
   "id": "b93297d0",
   "metadata": {},
   "source": [
    "## Reshape & Scale Data"
   ]
  },
  {
   "cell_type": "code",
   "execution_count": 5,
   "id": "489ed725",
   "metadata": {},
   "outputs": [],
   "source": [
    "def print_shape():\n",
    "    print('x_train.shape:',x_train.shape)\n",
    "    print('x_test.shape:',x_test.shape)\n",
    "    print('y_train.shape:',y_train.shape)\n",
    "    print('y_test.shape:',y_test.shape)"
   ]
  },
  {
   "cell_type": "code",
   "execution_count": 6,
   "id": "22ef433b",
   "metadata": {},
   "outputs": [
    {
     "name": "stdout",
     "output_type": "stream",
     "text": [
      "x_train.shape: (60000, 28, 28)\n",
      "x_test.shape: (10000, 28, 28)\n",
      "y_train.shape: (60000,)\n",
      "y_test.shape: (10000,)\n"
     ]
    }
   ],
   "source": [
    "print_shape()"
   ]
  },
  {
   "cell_type": "code",
   "execution_count": 7,
   "id": "61615248",
   "metadata": {},
   "outputs": [],
   "source": [
    "x_train = x_train / 255\n",
    "x_test = x_test / 255"
   ]
  },
  {
   "cell_type": "code",
   "execution_count": 8,
   "id": "e09e1fd1",
   "metadata": {},
   "outputs": [],
   "source": [
    "x_train = x_train.reshape(x_train.shape[0],28,28,1)\n",
    "x_test = x_test.reshape(x_test.shape[0],28,28,1)"
   ]
  },
  {
   "cell_type": "code",
   "execution_count": 9,
   "id": "ce602b96",
   "metadata": {},
   "outputs": [],
   "source": [
    "y_train = to_categorical(y_train,number_of_classes)\n",
    "y_test = to_categorical(y_test,number_of_classes)"
   ]
  },
  {
   "cell_type": "code",
   "execution_count": 10,
   "id": "7c25ccc1",
   "metadata": {
    "scrolled": true
   },
   "outputs": [
    {
     "name": "stdout",
     "output_type": "stream",
     "text": [
      "x_train.shape: (60000, 28, 28, 1)\n",
      "x_test.shape: (10000, 28, 28, 1)\n",
      "y_train.shape: (60000, 10)\n",
      "y_test.shape: (10000, 10)\n"
     ]
    }
   ],
   "source": [
    "print_shape()"
   ]
  },
  {
   "cell_type": "markdown",
   "id": "f2fad641",
   "metadata": {},
   "source": [
    "## Creating CNN Model"
   ]
  },
  {
   "cell_type": "code",
   "execution_count": 11,
   "id": "fbf87a3b",
   "metadata": {},
   "outputs": [],
   "source": [
    "model = Sequential()\n",
    "\n",
    "model.add(Conv2D(64, kernel_size=3, activation='relu', input_shape=(28, 28, 1)))\n",
    "model.add(MaxPooling2D(pool_size=2,strides=2))\n",
    "\n",
    "model.add(Conv2D(64, kernel_size=3, activation='relu'))\n",
    "model.add(MaxPooling2D(pool_size=2,strides=2))\n",
    "\n",
    "model.add(Dropout(rate = 0.2))\n",
    "\n",
    "model.add(Flatten())\n",
    "\n",
    "model.add(Dense(128, activation='relu'))\n",
    "model.add(Dropout(rate = 0.2))\n",
    "\n",
    "model.add(Dense(number_of_classes, activation='softmax'))"
   ]
  },
  {
   "cell_type": "markdown",
   "id": "6b03cc21",
   "metadata": {},
   "source": [
    "## Compile the Model"
   ]
  },
  {
   "cell_type": "code",
   "execution_count": 12,
   "id": "e92c3c11",
   "metadata": {},
   "outputs": [],
   "source": [
    "model.compile(optimizer='adam',loss = 'categorical_crossentropy',metrics = ['accuracy'])"
   ]
  },
  {
   "cell_type": "markdown",
   "id": "5054accd",
   "metadata": {},
   "source": [
    "## Train the Model"
   ]
  },
  {
   "cell_type": "code",
   "execution_count": 13,
   "id": "361bc338",
   "metadata": {},
   "outputs": [
    {
     "name": "stdout",
     "output_type": "stream",
     "text": [
      "Epoch 1/4\n",
      "469/469 [==============================] - 23s 49ms/step - loss: 0.5976 - accuracy: 0.7812 - val_loss: 0.4021 - val_accuracy: 0.8531\n",
      "Epoch 2/4\n",
      "469/469 [==============================] - 21s 46ms/step - loss: 0.3817 - accuracy: 0.8614 - val_loss: 0.3350 - val_accuracy: 0.8780\n",
      "Epoch 3/4\n",
      "469/469 [==============================] - 23s 49ms/step - loss: 0.3323 - accuracy: 0.8782 - val_loss: 0.3066 - val_accuracy: 0.8875\n",
      "Epoch 4/4\n",
      "469/469 [==============================] - 20s 43ms/step - loss: 0.3003 - accuracy: 0.8900 - val_loss: 0.2815 - val_accuracy: 0.8976\n"
     ]
    },
    {
     "data": {
      "text/plain": [
       "<keras.callbacks.History at 0x29d0e520610>"
      ]
     },
     "execution_count": 13,
     "metadata": {},
     "output_type": "execute_result"
    }
   ],
   "source": [
    "model.fit(x = x_train,y = y_train,batch_size = 128, epochs=4,validation_data=(x_test,y_test))"
   ]
  },
  {
   "cell_type": "markdown",
   "id": "797744cf",
   "metadata": {},
   "source": [
    "## Plot Losses"
   ]
  },
  {
   "cell_type": "code",
   "execution_count": 14,
   "id": "1baae403",
   "metadata": {},
   "outputs": [
    {
     "data": {
      "image/png": "[encoded data removed]",
      "text/plain": [
       "<Figure size 432x288 with 1 Axes>"
      ]
     },
     "metadata": {
      "needs_background": "light"
     },
     "output_type": "display_data"
    }
   ],
   "source": [
    "try:\n",
    "    losses = pd.DataFrame(model.history.history)\n",
    "    losses.plot()\n",
    "except:\n",
    "    print(\"Model's history is empty! Train the Model again!\")"
   ]
  },
  {
   "cell_type": "markdown",
   "id": "e4ab34bf",
   "metadata": {},
   "source": [
    "## Plot Loss and Accuracy Scores"
   ]
  },
  {
   "cell_type": "code",
   "execution_count": 15,
   "id": "80d68470",
   "metadata": {},
   "outputs": [
    {
     "name": "stdout",
     "output_type": "stream",
     "text": [
      "313/313 [==============================] - 1s 4ms/step - loss: 0.2815 - accuracy: 0.8976\n",
      "\n",
      "Test Loss: 0.28\n",
      "Test Accuracy 0.9\n"
     ]
    }
   ],
   "source": [
    "scores = model.evaluate(x_test,y_test,verbose=1)\n",
    "print(f'\\nTest Loss: {round(scores[0],2)}\\nTest Accuracy {round(scores[1],2)}')"
   ]
  },
  {
   "cell_type": "markdown",
   "id": "f9b9a62f",
   "metadata": {},
   "source": [
    "## Predict a Single Value"
   ]
  },
  {
   "cell_type": "code",
   "execution_count": 16,
   "id": "973c1817",
   "metadata": {},
   "outputs": [],
   "source": [
    "class_names=['T_shirt/top', 'Trouser', 'Pullover', 'Dress', 'Coat', 'Sandal', 'Shirt', 'Sneaker', 'Bag', 'Ankle boot']"
   ]
  },
  {
   "cell_type": "code",
   "execution_count": 17,
   "id": "94d2e9bb",
   "metadata": {},
   "outputs": [
    {
     "data": {
      "image/png": "[encoded data removed]",
      "text/plain": [
       "<Figure size 432x288 with 1 Axes>"
      ]
     },
     "metadata": {
      "needs_background": "light"
     },
     "output_type": "display_data"
    },
    {
     "name": "stdout",
     "output_type": "stream",
     "text": [
      "Calculating...\n",
      "1/1 [==============================] - 0s 91ms/step\n",
      "\n",
      "Prediction: Dress\n"
     ]
    }
   ],
   "source": [
    "test_number = 450\n",
    "if (test_number>x_test.shape[0]-1) or (test_number < 0):\n",
    "    print(f'Test number must be between 0-{x_test.shape[0]-1}')\n",
    "else:\n",
    "    test_image = x_test[test_number]\n",
    "    \n",
    "    # plot selected value\n",
    "    plt.imshow(test_image.reshape(28,28))\n",
    "    plt.title('Test Image',size = 14, y = 1.05)\n",
    "    plt.show()\n",
    "\n",
    "    # prediction\n",
    "    test_data = test_image.reshape(1,28,28,1)\n",
    "    print('Calculating...')\n",
    "    prediction = model.predict(test_data,batch_size=1)\n",
    "    prediction = np.argmax(prediction)\n",
    "    print('\\nPrediction:',class_names[prediction])"
   ]
  },
  {
   "cell_type": "markdown",
   "id": "645e77fc",
   "metadata": {},
   "source": [
    "## Save Model"
   ]
  },
  {
   "cell_type": "code",
   "execution_count": 1,
   "id": "f7e77fdd",
   "metadata": {},
   "outputs": [],
   "source": [
    "# try:\n",
    "#     model.save('my_model.h5')  \n",
    "#     print('Model Saved')\n",
    "# except Exception as ex:\n",
    "#     print(ex)"
   ]
  }
 ],
 "metadata": {
  "kernelspec": {
   "display_name": "Python 3 (ipykernel)",
   "language": "python",
   "name": "python3"
  },
  "language_info": {
   "codemirror_mode": {
    "name": "ipython",
    "version": 3
   },
   "file_extension": ".py",
   "mimetype": "text/x-python",
   "name": "python",
   "nbconvert_exporter": "python",
   "pygments_lexer": "ipython3",
   "version": "3.9.12"
  }
 },
 "nbformat": 4,
 "nbformat_minor": 5
}
