{
 "cells": [
  {
   "cell_type": "markdown",
   "id": "d252f5d0",
   "metadata": {},
   "source": [
    "# Cat or Dog"
   ]
  },
  {
   "cell_type": "markdown",
   "id": "5ec4364a",
   "metadata": {},
   "source": [
    "## Importing Libraries"
   ]
  },
  {
   "cell_type": "code",
   "execution_count": 1,
   "id": "e535f976",
   "metadata": {},
   "outputs": [],
   "source": [
    "from keras.preprocessing.image import ImageDataGenerator "
   ]
  },
  {
   "cell_type": "code",
   "execution_count": 2,
   "id": "c7660479",
   "metadata": {},
   "outputs": [],
   "source": [
    "from keras.models import Sequential\n",
    "from keras.layers import Dense,Conv2D,MaxPool2D,Flatten\n",
    "from keras.utils import load_img,img_to_array"
   ]
  },
  {
   "cell_type": "code",
   "execution_count": 3,
   "id": "bb64e7be",
   "metadata": {},
   "outputs": [],
   "source": [
    "import numpy as np\n",
    "import pandas as pd\n",
    "import matplotlib.pyplot as plt"
   ]
  },
  {
   "cell_type": "markdown",
   "id": "4842dd80",
   "metadata": {},
   "source": [
    "## Image Preprocessing"
   ]
  },
  {
   "cell_type": "code",
   "execution_count": 4,
   "id": "3c1d3975",
   "metadata": {},
   "outputs": [
    {
     "name": "stdout",
     "output_type": "stream",
     "text": [
      "Found 8000 images belonging to 2 classes.\n"
     ]
    }
   ],
   "source": [
    "train_data_gen = ImageDataGenerator(rescale=1./255, horizontal_flip=True,zoom_range=0.2,shear_range=0.2)\n",
    "\n",
    "training_set = train_data_gen.flow_from_directory('./dataset/training_set', target_size=(64,64),batch_size=32,class_mode='binary')"
   ]
  },
  {
   "cell_type": "code",
   "execution_count": 5,
   "id": "08018fb7",
   "metadata": {},
   "outputs": [
    {
     "name": "stdout",
     "output_type": "stream",
     "text": [
      "Found 2000 images belonging to 2 classes.\n"
     ]
    }
   ],
   "source": [
    "test_data_gen = ImageDataGenerator(rescale=1./255)\n",
    "\n",
    "test_set = train_data_gen.flow_from_directory('./dataset/test_set', target_size=(64,64),batch_size=32,class_mode='binary')"
   ]
  },
  {
   "cell_type": "markdown",
   "id": "e7794978",
   "metadata": {},
   "source": [
    "## Creating CNN Model"
   ]
  },
  {
   "cell_type": "code",
   "execution_count": 6,
   "id": "5e19d59b",
   "metadata": {},
   "outputs": [],
   "source": [
    "model = Sequential()\n",
    "\n",
    "model.add(Conv2D(filters=32,kernel_size=3,activation='relu',input_shape = [64,64,3]))\n",
    "model.add(MaxPool2D(pool_size=2,strides = 2))\n",
    "\n",
    "model.add(Conv2D(filters=32,kernel_size=3,activation='relu'))\n",
    "model.add(MaxPool2D(pool_size=2,strides = 2))\n",
    "\n",
    "model.add(Flatten())\n",
    "\n",
    "model.add(Dense(units=128,activation='relu'))\n",
    "\n",
    "model.add(Dense(units=1,activation='sigmoid'))"
   ]
  },
  {
   "cell_type": "markdown",
   "id": "cb948ed9",
   "metadata": {},
   "source": [
    "## Compile the Model"
   ]
  },
  {
   "cell_type": "code",
   "execution_count": 7,
   "id": "93df051a",
   "metadata": {},
   "outputs": [],
   "source": [
    "model.compile(optimizer='adam',loss = 'binary_crossentropy',metrics = ['accuracy'])"
   ]
  },
  {
   "cell_type": "markdown",
   "id": "58dc19f8",
   "metadata": {},
   "source": [
    "## Train the Model"
   ]
  },
  {
   "cell_type": "code",
   "execution_count": 8,
   "id": "8fff0ac5",
   "metadata": {},
   "outputs": [
    {
     "name": "stdout",
     "output_type": "stream",
     "text": [
      "Epoch 1/25\n",
      "250/250 [==============================] - 62s 245ms/step - loss: 0.6770 - accuracy: 0.5690 - val_loss: 0.6422 - val_accuracy: 0.6495\n",
      "Epoch 2/25\n",
      "250/250 [==============================] - 29s 117ms/step - loss: 0.6456 - accuracy: 0.6271 - val_loss: 0.6247 - val_accuracy: 0.6545\n",
      "Epoch 3/25\n",
      "250/250 [==============================] - 29s 115ms/step - loss: 0.5989 - accuracy: 0.6827 - val_loss: 0.5759 - val_accuracy: 0.7060\n",
      "Epoch 4/25\n",
      "250/250 [==============================] - 29s 114ms/step - loss: 0.5739 - accuracy: 0.6985 - val_loss: 0.5661 - val_accuracy: 0.7110\n",
      "Epoch 5/25\n",
      "250/250 [==============================] - 30s 119ms/step - loss: 0.5383 - accuracy: 0.7245 - val_loss: 0.5455 - val_accuracy: 0.7345\n",
      "Epoch 6/25\n",
      "250/250 [==============================] - 30s 118ms/step - loss: 0.5033 - accuracy: 0.7531 - val_loss: 0.5433 - val_accuracy: 0.7340\n",
      "Epoch 7/25\n",
      "250/250 [==============================] - 29s 116ms/step - loss: 0.4870 - accuracy: 0.7625 - val_loss: 0.5428 - val_accuracy: 0.7305\n",
      "Epoch 8/25\n",
      "250/250 [==============================] - 30s 120ms/step - loss: 0.4659 - accuracy: 0.7809 - val_loss: 0.5152 - val_accuracy: 0.7500\n",
      "Epoch 9/25\n",
      "250/250 [==============================] - 29s 116ms/step - loss: 0.4544 - accuracy: 0.7851 - val_loss: 0.5319 - val_accuracy: 0.7340\n",
      "Epoch 10/25\n",
      "250/250 [==============================] - 29s 116ms/step - loss: 0.4412 - accuracy: 0.7910 - val_loss: 0.5241 - val_accuracy: 0.7570\n",
      "Epoch 11/25\n",
      "250/250 [==============================] - 29s 117ms/step - loss: 0.4196 - accuracy: 0.8030 - val_loss: 0.4905 - val_accuracy: 0.7725\n",
      "Epoch 12/25\n",
      "250/250 [==============================] - 29s 116ms/step - loss: 0.4097 - accuracy: 0.8114 - val_loss: 0.5021 - val_accuracy: 0.7645\n",
      "Epoch 13/25\n",
      "250/250 [==============================] - 29s 117ms/step - loss: 0.3848 - accuracy: 0.8236 - val_loss: 0.5002 - val_accuracy: 0.7660\n",
      "Epoch 14/25\n",
      "250/250 [==============================] - 29s 117ms/step - loss: 0.3773 - accuracy: 0.8334 - val_loss: 0.4889 - val_accuracy: 0.7680\n",
      "Epoch 15/25\n",
      "250/250 [==============================] - 29s 118ms/step - loss: 0.3540 - accuracy: 0.8439 - val_loss: 0.5377 - val_accuracy: 0.7730\n",
      "Epoch 16/25\n",
      "250/250 [==============================] - 29s 117ms/step - loss: 0.3310 - accuracy: 0.8529 - val_loss: 0.4846 - val_accuracy: 0.7890\n",
      "Epoch 17/25\n",
      "250/250 [==============================] - 30s 118ms/step - loss: 0.3213 - accuracy: 0.8594 - val_loss: 0.5140 - val_accuracy: 0.7850\n",
      "Epoch 18/25\n",
      "250/250 [==============================] - 29s 117ms/step - loss: 0.2995 - accuracy: 0.8679 - val_loss: 0.5332 - val_accuracy: 0.7790\n",
      "Epoch 19/25\n",
      "250/250 [==============================] - 29s 118ms/step - loss: 0.2821 - accuracy: 0.8798 - val_loss: 0.5977 - val_accuracy: 0.7790\n",
      "Epoch 20/25\n",
      "250/250 [==============================] - 29s 117ms/step - loss: 0.2773 - accuracy: 0.8850 - val_loss: 0.5212 - val_accuracy: 0.7880\n",
      "Epoch 21/25\n",
      "250/250 [==============================] - 30s 118ms/step - loss: 0.2647 - accuracy: 0.8916 - val_loss: 0.5349 - val_accuracy: 0.7700\n",
      "Epoch 22/25\n",
      "250/250 [==============================] - 29s 118ms/step - loss: 0.2336 - accuracy: 0.9039 - val_loss: 0.5137 - val_accuracy: 0.7900\n",
      "Epoch 23/25\n",
      "250/250 [==============================] - 30s 118ms/step - loss: 0.2245 - accuracy: 0.9062 - val_loss: 0.5984 - val_accuracy: 0.7780\n",
      "Epoch 24/25\n",
      "250/250 [==============================] - 30s 119ms/step - loss: 0.2143 - accuracy: 0.9114 - val_loss: 0.5722 - val_accuracy: 0.7900\n",
      "Epoch 25/25\n",
      "250/250 [==============================] - 30s 119ms/step - loss: 0.2009 - accuracy: 0.9187 - val_loss: 0.5800 - val_accuracy: 0.7760\n"
     ]
    },
    {
     "data": {
      "text/plain": [
       "<keras.callbacks.History at 0x1cfb3edf220>"
      ]
     },
     "execution_count": 8,
     "metadata": {},
     "output_type": "execute_result"
    }
   ],
   "source": [
    "model.fit(x = training_set, validation_data=test_set, epochs=25)"
   ]
  },
  {
   "cell_type": "markdown",
   "id": "0f937a64",
   "metadata": {},
   "source": [
    "## Plot Losses"
   ]
  },
  {
   "cell_type": "code",
   "execution_count": 9,
   "id": "a064d160",
   "metadata": {},
   "outputs": [
    {
     "data": {
      "image/png": "[encoded data removed]",
      "text/plain": [
       "<Figure size 432x288 with 1 Axes>"
      ]
     },
     "metadata": {
      "needs_background": "light"
     },
     "output_type": "display_data"
    }
   ],
   "source": [
    "try:\n",
    "    losses = pd.DataFrame(model.history.history)\n",
    "    losses.plot()\n",
    "except:\n",
    "    print(\"Model's history is empty! Train the Model again!\")"
   ]
  },
  {
   "cell_type": "code",
   "execution_count": 10,
   "id": "5c38e6f9",
   "metadata": {},
   "outputs": [
    {
     "data": {
      "text/plain": [
       "{'cats': 0, 'dogs': 1}"
      ]
     },
     "execution_count": 10,
     "metadata": {},
     "output_type": "execute_result"
    }
   ],
   "source": [
    "training_set.class_indices"
   ]
  },
  {
   "cell_type": "markdown",
   "id": "61a92e9b",
   "metadata": {},
   "source": [
    "## Calculate Loss and Accuracy Scores"
   ]
  },
  {
   "cell_type": "code",
   "execution_count": 11,
   "id": "7dc9e21b",
   "metadata": {},
   "outputs": [
    {
     "name": "stdout",
     "output_type": "stream",
     "text": [
      "Calculating...\n",
      "63/63 [==============================] - 5s 82ms/step - loss: 0.5906 - accuracy: 0.7810\n",
      "\n",
      "Test Loss: 0.59\n",
      "Test Accuracy 0.78\n"
     ]
    }
   ],
   "source": [
    "print('Calculating...')\n",
    "scores = model.evaluate(test_set,verbose = 1)\n",
    "print(f'\\nTest Loss: {round(scores[0],2)}\\nTest Accuracy {round(scores[1],2)}')"
   ]
  },
  {
   "cell_type": "markdown",
   "id": "6a41a729",
   "metadata": {},
   "source": [
    "## Predict a Single Value"
   ]
  },
  {
   "cell_type": "code",
   "execution_count": 25,
   "id": "4d34d61a",
   "metadata": {
    "scrolled": true
   },
   "outputs": [
    {
     "data": {
      "image/png": "[encoded data removed]",
      "text/plain": [
       "<Figure size 432x288 with 1 Axes>"
      ]
     },
     "metadata": {
      "needs_background": "light"
     },
     "output_type": "display_data"
    },
    {
     "name": "stdout",
     "output_type": "stream",
     "text": [
      "1/1 [==============================] - 0s 16ms/step\n",
      "\n",
      "Prediction is dog!\n"
     ]
    }
   ],
   "source": [
    "try:   \n",
    "    # Choose an image\n",
    "    image = './dataset/single_prediction/cat_or_dog_1.jpg'; \n",
    "    test_image = load_img(image,target_size = (64,64))\n",
    "\n",
    "    # Plot the selected image\n",
    "    plt.imshow(test_image)\n",
    "    plt.title('Test Image',size = 14,y = 1.05)\n",
    "    plt.show()\n",
    "    \n",
    "    # prediction\n",
    "    prediction = img_to_array(test_image)\n",
    "    prediction = np.expand_dims(prediction,axis = 0)\n",
    "    result = model.predict(prediction)\n",
    "\n",
    "    if result == 0:\n",
    "        print(\"\\nPrediction is cat!\")\n",
    "\n",
    "    elif result == 1:\n",
    "        print(\"\\nPrediction is dog!\")\n",
    "    \n",
    "except:\n",
    "    print('Invalid File Path!')"
   ]
  },
  {
   "cell_type": "markdown",
   "id": "38d8bf0b",
   "metadata": {},
   "source": [
    "## Save Model"
   ]
  },
  {
   "cell_type": "code",
   "execution_count": 26,
   "id": "6c8bf367",
   "metadata": {},
   "outputs": [],
   "source": [
    "# try:\n",
    "#     model.save('my_model.h5')  \n",
    "#     print('Model Saved')\n",
    "# except Exception as ex:\n",
    "#     print(ex)"
   ]
  }
 ],
 "metadata": {
  "kernelspec": {
   "display_name": "Python 3 (ipykernel)",
   "language": "python",
   "name": "python3"
  },
  "language_info": {
   "codemirror_mode": {
    "name": "ipython",
    "version": 3
   },
   "file_extension": ".py",
   "mimetype": "text/x-python",
   "name": "python",
   "nbconvert_exporter": "python",
   "pygments_lexer": "ipython3",
   "version": "3.9.12"
  }
 },
 "nbformat": 4,
 "nbformat_minor": 5
}
