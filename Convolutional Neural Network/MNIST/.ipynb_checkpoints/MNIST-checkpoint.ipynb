{
 "cells": [
  {
   "cell_type": "markdown",
   "id": "0748341e",
   "metadata": {},
   "source": [
    "# MNIST "
   ]
  },
  {
   "cell_type": "markdown",
   "id": "0f7ab1e6",
   "metadata": {},
   "source": [
    "## Importing Libraries"
   ]
  },
  {
   "cell_type": "code",
   "execution_count": 1,
   "id": "cba6189b",
   "metadata": {},
   "outputs": [],
   "source": [
    "from keras.datasets import mnist\n",
    "from keras.utils import to_categorical"
   ]
  },
  {
   "cell_type": "code",
   "execution_count": 2,
   "id": "93c8c677",
   "metadata": {},
   "outputs": [],
   "source": [
    "from keras.models import Sequential\n",
    "from keras.layers import Conv2D,Dense,Dropout,Flatten,MaxPooling2D"
   ]
  },
  {
   "cell_type": "code",
   "execution_count": 3,
   "id": "38b53109",
   "metadata": {},
   "outputs": [],
   "source": [
    "import numpy as np\n",
    "import pandas as pd\n",
    "import matplotlib.pyplot as plt"
   ]
  },
  {
   "cell_type": "markdown",
   "id": "53ad7c0e",
   "metadata": {},
   "source": [
    "## Load Data"
   ]
  },
  {
   "cell_type": "code",
   "execution_count": 4,
   "id": "a4f90aed",
   "metadata": {},
   "outputs": [],
   "source": [
    "(x_train,y_train) , (x_test,y_test) = mnist.load_data()\n",
    "number_of_classes = 10"
   ]
  },
  {
   "cell_type": "markdown",
   "id": "1674a1ff",
   "metadata": {},
   "source": [
    "## Reshape & Scale Data"
   ]
  },
  {
   "cell_type": "code",
   "execution_count": 5,
   "id": "55a1a89d",
   "metadata": {},
   "outputs": [],
   "source": [
    "def print_shape():\n",
    "    print('x_train.shape:',x_train.shape)\n",
    "    print('x_test.shape:',x_test.shape)\n",
    "    print('y_train.shape:',y_train.shape)\n",
    "    print('y_test.shape:',y_test.shape)"
   ]
  },
  {
   "cell_type": "code",
   "execution_count": 6,
   "id": "af2146bf",
   "metadata": {},
   "outputs": [
    {
     "name": "stdout",
     "output_type": "stream",
     "text": [
      "x_train.shape: (60000, 28, 28)\n",
      "x_test.shape: (10000, 28, 28)\n",
      "y_train.shape: (60000,)\n",
      "y_test.shape: (10000,)\n"
     ]
    }
   ],
   "source": [
    "print_shape()"
   ]
  },
  {
   "cell_type": "code",
   "execution_count": 7,
   "id": "62ee8a0b",
   "metadata": {},
   "outputs": [],
   "source": [
    "x_train = x_train.reshape(x_train.shape[0],28,28,1)\n",
    "x_test = x_test.reshape(x_test.shape[0],28,28,1)"
   ]
  },
  {
   "cell_type": "code",
   "execution_count": 8,
   "id": "69446b3e",
   "metadata": {},
   "outputs": [],
   "source": [
    "y_train = to_categorical(y_train,number_of_classes)\n",
    "y_test = to_categorical(y_test,number_of_classes)"
   ]
  },
  {
   "cell_type": "code",
   "execution_count": 9,
   "id": "0b1b6bef",
   "metadata": {},
   "outputs": [
    {
     "name": "stdout",
     "output_type": "stream",
     "text": [
      "x_train.shape: (60000, 28, 28, 1)\n",
      "x_test.shape: (10000, 28, 28, 1)\n",
      "y_train.shape: (60000, 10)\n",
      "y_test.shape: (10000, 10)\n"
     ]
    }
   ],
   "source": [
    "print_shape()"
   ]
  },
  {
   "cell_type": "markdown",
   "id": "66ccf837",
   "metadata": {},
   "source": [
    "## Creating CNN Model"
   ]
  },
  {
   "cell_type": "code",
   "execution_count": 10,
   "id": "b358ca30",
   "metadata": {},
   "outputs": [],
   "source": [
    "model = Sequential()\n",
    "\n",
    "model.add(Conv2D(filters=32,kernel_size=3,activation='relu',input_shape = (28,28,1)))\n",
    "model.add(Conv2D(filters=32,kernel_size=3,activation='relu'))\n",
    "model.add(MaxPooling2D(pool_size=2))\n",
    "model.add(Dropout(0.3))\n",
    "\n",
    "model.add(Flatten())\n",
    "\n",
    "model.add(Dense(units=64,activation='relu'))\n",
    "model.add(Dropout(0.3))\n",
    "\n",
    "model.add(Dense(units=number_of_classes,activation='softmax'))"
   ]
  },
  {
   "cell_type": "markdown",
   "id": "9f2a6d33",
   "metadata": {},
   "source": [
    "## Compile the Model"
   ]
  },
  {
   "cell_type": "code",
   "execution_count": 11,
   "id": "bd4d0a45",
   "metadata": {},
   "outputs": [],
   "source": [
    "model.compile(optimizer='adam',loss = 'categorical_crossentropy',metrics=['accuracy'])"
   ]
  },
  {
   "cell_type": "markdown",
   "id": "4b56b09c",
   "metadata": {},
   "source": [
    "## Train the Model"
   ]
  },
  {
   "cell_type": "code",
   "execution_count": 12,
   "id": "257d90fb",
   "metadata": {},
   "outputs": [
    {
     "name": "stdout",
     "output_type": "stream",
     "text": [
      "Epoch 1/5\n",
      "469/469 [==============================] - 24s 50ms/step - loss: 0.8989 - accuracy: 0.8156 - val_loss: 0.0859 - val_accuracy: 0.9761\n",
      "Epoch 2/5\n",
      "469/469 [==============================] - 27s 58ms/step - loss: 0.1736 - accuracy: 0.9505 - val_loss: 0.0698 - val_accuracy: 0.9782\n",
      "Epoch 3/5\n",
      "469/469 [==============================] - 26s 56ms/step - loss: 0.1185 - accuracy: 0.9653 - val_loss: 0.0539 - val_accuracy: 0.9837\n",
      "Epoch 4/5\n",
      "469/469 [==============================] - 27s 58ms/step - loss: 0.1032 - accuracy: 0.9693 - val_loss: 0.0468 - val_accuracy: 0.9862\n",
      "Epoch 5/5\n",
      "469/469 [==============================] - 27s 57ms/step - loss: 0.0869 - accuracy: 0.9738 - val_loss: 0.0448 - val_accuracy: 0.9868\n"
     ]
    },
    {
     "data": {
      "text/plain": [
       "<keras.callbacks.History at 0x29f62968130>"
      ]
     },
     "execution_count": 12,
     "metadata": {},
     "output_type": "execute_result"
    }
   ],
   "source": [
    "model.fit(x = x_train,y = y_train,epochs=5,batch_size = 128,verbose = 1,validation_data=(x_test,y_test))"
   ]
  },
  {
   "cell_type": "markdown",
   "id": "41aa1952",
   "metadata": {},
   "source": [
    "## Plot Losses"
   ]
  },
  {
   "cell_type": "code",
   "execution_count": 13,
   "id": "402df577",
   "metadata": {},
   "outputs": [
    {
     "data": {
      "image/png": "[encoded data removed]",
      "text/plain": [
       "<Figure size 432x288 with 1 Axes>"
      ]
     },
     "metadata": {
      "needs_background": "light"
     },
     "output_type": "display_data"
    }
   ],
   "source": [
    "try:\n",
    "    losses = pd.DataFrame(model.history.history)\n",
    "    losses.plot()\n",
    "except:\n",
    "    print(\"Model's history is empty! Train the Model again!\")"
   ]
  },
  {
   "cell_type": "markdown",
   "id": "1a678e1f",
   "metadata": {},
   "source": [
    "## Calculate Loss and Accuracy Scores"
   ]
  },
  {
   "cell_type": "code",
   "execution_count": 14,
   "id": "7067b67b",
   "metadata": {},
   "outputs": [
    {
     "name": "stdout",
     "output_type": "stream",
     "text": [
      "313/313 [==============================] - 1s 4ms/step - loss: 0.0448 - accuracy: 0.9868\n",
      "\n",
      "Test Loss: 0.04\n",
      "Test Accuracy 0.99\n"
     ]
    }
   ],
   "source": [
    "scores = model.evaluate(x_test,y_test,verbose=1)\n",
    "print(f'\\nTest Loss: {round(scores[0],2)}\\nTest Accuracy {round(scores[1],2)}')"
   ]
  },
  {
   "cell_type": "markdown",
   "id": "c103ea56",
   "metadata": {},
   "source": [
    "## Predict a Single Value"
   ]
  },
  {
   "cell_type": "code",
   "execution_count": 15,
   "id": "2df58810",
   "metadata": {},
   "outputs": [
    {
     "data": {
      "image/png": "[encoded data removed]",
      "text/plain": [
       "<Figure size 432x288 with 1 Axes>"
      ]
     },
     "metadata": {
      "needs_background": "light"
     },
     "output_type": "display_data"
    },
    {
     "name": "stdout",
     "output_type": "stream",
     "text": [
      "Calculating...\n",
      "1/1 [==============================] - 0s 92ms/step\n",
      "\n",
      "Prediction: 3\n"
     ]
    }
   ],
   "source": [
    "# choose a value from x_test\n",
    "test_number = 500\n",
    "if (test_number > x_test.shape[0]-1) or (test_number < 0):\n",
    "    print(f'Test number must be between 0-{x_test.shape[0]-1}')\n",
    "else:\n",
    "    test_image = x_test[test_number]\n",
    "\n",
    "    # plot selected value\n",
    "    plt.imshow(test_image.reshape(28,28))\n",
    "    plt.title('Test Image',size = 14, y = 1.05)\n",
    "    plt.show()\n",
    "\n",
    "    # prediction\n",
    "    test_data = test_image.reshape(1,28,28,1)\n",
    "    print('Calculating...')\n",
    "    prediction = model.predict(test_data,batch_size=1)\n",
    "    prediction = np.argmax(prediction)\n",
    "    print(\"\\nPrediction:\",prediction)"
   ]
  },
  {
   "cell_type": "markdown",
   "id": "6eea6597",
   "metadata": {},
   "source": [
    "## Save Model"
   ]
  },
  {
   "cell_type": "code",
   "execution_count": 1,
   "id": "c21e879a",
   "metadata": {},
   "outputs": [],
   "source": [
    "# try:\n",
    "#     model.save('my_model.h5')  \n",
    "#     print('Model Saved')\n",
    "# except Exception as ex:\n",
    "#     print(ex)"
   ]
  }
 ],
 "metadata": {
  "kernelspec": {
   "display_name": "Python 3 (ipykernel)",
   "language": "python",
   "name": "python3"
  },
  "language_info": {
   "codemirror_mode": {
    "name": "ipython",
    "version": 3
   },
   "file_extension": ".py",
   "mimetype": "text/x-python",
   "name": "python",
   "nbconvert_exporter": "python",
   "pygments_lexer": "ipython3",
   "version": "3.9.12"
  }
 },
 "nbformat": 4,
 "nbformat_minor": 5
}
